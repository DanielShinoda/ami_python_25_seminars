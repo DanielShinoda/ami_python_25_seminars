{
 "cells": [
  {
   "cell_type": "markdown",
   "id": "088d2172",
   "metadata": {},
   "source": [
    "# Битовые операции"
   ]
  },
  {
   "cell_type": "markdown",
   "id": "58d15543",
   "metadata": {},
   "source": [
    "## Степень двойки"
   ]
  },
  {
   "cell_type": "markdown",
   "id": "61e5bd76",
   "metadata": {},
   "source": [
    "**Задача**: определить, является ли число степенью двойки.\n",
    "\n",
    "Подсказка:"
   ]
  },
  {
   "cell_type": "code",
   "execution_count": null,
   "id": "c7e713c2",
   "metadata": {},
   "outputs": [],
   "source": [
    "bin(1 << 1), bin(1 << 2), bin(1 << 3), bin(7)"
   ]
  },
  {
   "cell_type": "code",
   "execution_count": null,
   "id": "66200ffa",
   "metadata": {},
   "outputs": [],
   "source": [
    "def is_power_of_two(n: int) -> bool:\n",
    "    return False\n",
    "\n",
    "\n",
    "assert not is_power_of_two(0)\n",
    "assert is_power_of_two(1)\n",
    "assert is_power_of_two(4)\n",
    "assert is_power_of_two(1024)\n",
    "assert not is_power_of_two(1023)"
   ]
  },
  {
   "cell_type": "markdown",
   "id": "c4a914a3",
   "metadata": {},
   "source": [
    "## Подсчет единичных битов"
   ]
  },
  {
   "cell_type": "markdown",
   "id": "0e128b3e",
   "metadata": {},
   "source": [
    "**Задача**: определить сколько единичных битов в числе."
   ]
  },
  {
   "cell_type": "code",
   "execution_count": null,
   "id": "4bca4477",
   "metadata": {},
   "outputs": [],
   "source": [
    "def count_set_bits(n: int) -> int:\n",
    "    return 0\n",
    "\n",
    "\n",
    "test_cases = [(0, 0), (1, 1), (0b10101, 3), (0xFFFFFFFF, 32), (0xAAAAAAAA, 16)]\n",
    "\n",
    "for n, expected in test_cases:\n",
    "    assert count_set_bits(n) == expected"
   ]
  },
  {
   "cell_type": "markdown",
   "id": "68f13c3b",
   "metadata": {},
   "source": [
    "# Строки"
   ]
  },
  {
   "cell_type": "markdown",
   "id": "cdd0a148",
   "metadata": {},
   "source": [
    "## Переворот слов в строке"
   ]
  },
  {
   "cell_type": "markdown",
   "id": "1df018b0",
   "metadata": {},
   "source": [
    "**Задача**: перевернуть порядок слов в строке."
   ]
  },
  {
   "cell_type": "code",
   "execution_count": null,
   "id": "98aaedb9",
   "metadata": {},
   "outputs": [],
   "source": [
    "def reverse_words(s: str) -> str:\n",
    "    return \"\"\n",
    "\n",
    "\n",
    "assert reverse_words(\"Hello World\") == \"World Hello\"\n",
    "assert reverse_words(\"Python is awesome\") == \"awesome is Python\"\n",
    "assert reverse_words(\"a b c\") == \"c b a\"\n",
    "assert reverse_words(\"\") == \"\""
   ]
  },
  {
   "cell_type": "markdown",
   "id": "c3a17bbb",
   "metadata": {},
   "source": [
    "## Самый длинный"
   ]
  },
  {
   "cell_type": "markdown",
   "id": "9632513c",
   "metadata": {},
   "source": [
    "**Задача**: найти самое длинное слово в строке."
   ]
  },
  {
   "cell_type": "code",
   "execution_count": null,
   "id": "be6498f8",
   "metadata": {},
   "outputs": [],
   "source": [
    "def longest_word(s: str) -> str:\n",
    "    pass\n",
    "\n",
    "\n",
    "assert longest_word(\"Python is a programming language\") == \"programming\"\n",
    "assert longest_word(\"Hello world\") == \"Hello\"\n",
    "assert longest_word(\"\") == \"\"\n",
    "assert longest_word(\"a bb ccc\") == \"ccc\""
   ]
  },
  {
   "cell_type": "markdown",
   "id": "1fc43294",
   "metadata": {},
   "source": [
    "## Неповторимый"
   ]
  },
  {
   "cell_type": "markdown",
   "id": "11707612",
   "metadata": {},
   "source": [
    "**Задача**: удалить повторяющиеся символы из строки, сохраняя первый экземпляр."
   ]
  },
  {
   "cell_type": "code",
   "execution_count": null,
   "id": "08b18a55",
   "metadata": {},
   "outputs": [],
   "source": [
    "def remove_duplicates(s: str) -> str:\n",
    "    pass\n",
    "\n",
    "\n",
    "assert remove_duplicates(\"aabbcc\") == \"abc\"\n",
    "assert remove_duplicates(\"hello world\") == \"helo wrd\"\n",
    "assert remove_duplicates(\"\") == \"\"\n",
    "assert remove_duplicates(\"abc\") == \"abc\""
   ]
  },
  {
   "cell_type": "markdown",
   "id": "8094afae",
   "metadata": {},
   "source": [
    "# Файлы"
   ]
  },
  {
   "cell_type": "markdown",
   "id": "051586a0",
   "metadata": {},
   "source": [
    "## +1"
   ]
  },
  {
   "cell_type": "markdown",
   "id": "a211cd5d",
   "metadata": {},
   "source": [
    "Задача: в файле `data.txt` лежат числа по одному на новой строке. Необходимо увеличить каждое число на 1 в файле, при этом удалить каждое получившееся четное число."
   ]
  },
  {
   "cell_type": "code",
   "execution_count": null,
   "id": "2de9ba34",
   "metadata": {},
   "outputs": [],
   "source": [
    "test_cases = [\n",
    "    (\"25\\n30\\n22\", \"31\\n23\"),\n",
    "    (\"10\\n20\\n30\", \"11\\n21\\n31\"),\n",
    "    (\"5\", \"\"),\n",
    "    (\"100\\n200\", \"101\\n201\"),\n",
    "    (\"\", \"\"),\n",
    "]\n",
    "\n",
    "passed_tests = 0\n",
    "total_tests = len(test_cases)\n",
    "\n",
    "for i, (input_data, expected) in enumerate(test_cases, 1):\n",
    "    print(f\"Тест {i}:\")\n",
    "\n",
    "    f = open(\"data.txt\", \"w\")\n",
    "    f.write(input_data)\n",
    "    f.close()\n",
    "\n",
    "    ...\n",
    "    # Добавьте свой код\n",
    "    ...\n",
    "\n",
    "    f = open(\"data.txt\", \"r\")\n",
    "    result = f.read().strip()\n",
    "    f.close()\n",
    "\n",
    "    success = result == expected\n",
    "    input_str = repr(input_data) if input_data else \"(пустой файл)\"\n",
    "    expected_str = repr(expected) if expected else \"(пустой файл)\"\n",
    "    result_str = repr(result) if result else \"(пустой файл)\"\n",
    "\n",
    "    print(f\"Входные данные: {input_str}\")\n",
    "    print(f\"Ожидаемый результат: {expected_str}\")\n",
    "    print(f\"Полученный результат: {result_str}\")\n",
    "\n",
    "    if success:\n",
    "        print(\"✓ ТЕСТ ПРОЙДЕН\")\n",
    "        passed_tests += 1\n",
    "    else:\n",
    "        print(\"✗ ТЕСТ НЕ ПРОЙДЕН\")\n",
    "\n",
    "    print(\"-\" * 30)\n",
    "\n",
    "print(\"=\" * 50)\n",
    "print(f\"ИТОГ: {passed_tests}/{total_tests} тестов пройдено\")\n",
    "print(\"=\" * 50)\n",
    "\n",
    "if passed_tests == total_tests:\n",
    "    print(\"🎉 Все тесты успешно пройдены!\")\n",
    "else:\n",
    "    print(\"❌ Некоторые тесты не пройдены\")"
   ]
  }
 ],
 "metadata": {
  "kernelspec": {
   "display_name": ".venv",
   "language": "python",
   "name": "python3"
  },
  "language_info": {
   "codemirror_mode": {
    "name": "ipython",
    "version": 3
   },
   "file_extension": ".py",
   "mimetype": "text/x-python",
   "name": "python",
   "nbconvert_exporter": "python",
   "pygments_lexer": "ipython3",
   "version": "3.13.3"
  }
 },
 "nbformat": 4,
 "nbformat_minor": 5
}
