{
 "cells": [
  {
   "cell_type": "markdown",
   "id": "d2ea9a00",
   "metadata": {},
   "source": [
    "Для начала: есть ли вопросы по лекции?"
   ]
  },
  {
   "cell_type": "code",
   "execution_count": null,
   "id": "8cfbb589",
   "metadata": {},
   "outputs": [],
   "source": [
    "lax_coordinates = (55.754497, 37.649184)\n",
    "lattitude, longtitude = lax_coordinates\n",
    "lattitude\n"
   ]
  },
  {
   "cell_type": "markdown",
   "id": "79d987eb",
   "metadata": {},
   "source": [
    "Как свапнуть объекты в переменных местами?"
   ]
  },
  {
   "cell_type": "code",
   "execution_count": null,
   "id": "6b44d356",
   "metadata": {},
   "outputs": [],
   "source": [
    "a, b = (1, 2)\n",
    "b, a = a, b\n",
    "a, b"
   ]
  },
  {
   "cell_type": "markdown",
   "id": "26dfaa22",
   "metadata": {},
   "source": [
    "Можно заниматься анпакингом для печатанья в более читаемом виде:"
   ]
  },
  {
   "cell_type": "code",
   "execution_count": null,
   "id": "030bae28",
   "metadata": {},
   "outputs": [],
   "source": [
    "[1, 2, 3], *[1, 2, 3]"
   ]
  },
  {
   "cell_type": "code",
   "execution_count": null,
   "id": "aff9e767",
   "metadata": {},
   "outputs": [],
   "source": [
    "a, b, *rest = range(5)\n",
    "a, b, rest, type(rest)"
   ]
  },
  {
   "cell_type": "code",
   "execution_count": null,
   "id": "84c07af2",
   "metadata": {},
   "outputs": [],
   "source": [
    "a, b, *rest = range(2)\n",
    "a, b, rest, type(rest)"
   ]
  },
  {
   "cell_type": "code",
   "execution_count": null,
   "id": "7dc2c54c",
   "metadata": {},
   "outputs": [],
   "source": [
    "*head, b, c = range(5)\n",
    "head, b, c"
   ]
  },
  {
   "cell_type": "markdown",
   "id": "a1f057ed",
   "metadata": {},
   "source": [
    "Ниже хороший пример взаимодействия с кортежами и как можно распаковывать хранящиеся в них данные:"
   ]
  },
  {
   "cell_type": "code",
   "execution_count": null,
   "id": "ad1a219b",
   "metadata": {},
   "outputs": [],
   "source": [
    "metro_areas = [\n",
    "    (\"Tokyo\", \"JP\", 36.933, (35.689722, 139.691667)),\n",
    "    (\"Delhi NCR\", \"IN\", 21.935, (28.613889, 77.208889)),\n",
    "    (\"Mexico City\", \"MX\", 20.142, (19.433333, -99.133333)),\n",
    "    (\"New York-Newark\", \"US\", 20.104, (40.808611, -74.020386)),\n",
    "    (\"São Paulo\", \"BR\", 19.649, (-23.547778, -46.635833)),\n",
    "]\n",
    "\n",
    "print(f\"{'':15} | {'latitude':>9} | {'longitude':>9}\")\n",
    "for name, _, _, (lat, lon) in metro_areas:\n",
    "    if lon <= 0:\n",
    "        print(f\"{name:15} | {lat:9.4f} | {lon:9.4f}\")"
   ]
  },
  {
   "cell_type": "markdown",
   "id": "c1f60c10",
   "metadata": {},
   "source": [
    "Если вы хотите сами поиграться и посмотреть что быстрее, а что медленнее, то вот пример как лучше всего замерять время работы кусков кода:"
   ]
  },
  {
   "cell_type": "code",
   "execution_count": null,
   "id": "3cb34829",
   "metadata": {},
   "outputs": [],
   "source": [
    "import time\n",
    "\n",
    "\n",
    "def measure_performance():\n",
    "    n = 1000000\n",
    "\n",
    "    start1 = time.perf_counter()\n",
    "    result1 = []\n",
    "    for i in range(n):\n",
    "        result1.append(i * 2)\n",
    "    end1 = time.perf_counter()\n",
    "\n",
    "    start2 = time.perf_counter()\n",
    "    _ = [i * 2 for i in range(n)]\n",
    "    end2 = time.perf_counter()\n",
    "\n",
    "    print(f\"Цикл for: {end1 - start1:.6f} секунд\")\n",
    "    print(f\"List comprehension: {end2 - start2:.6f} секунд\")\n",
    "    print(f\"Разница: {(end1 - start1) - (end2 - start2):.6f} секунд\")\n",
    "    print(f\"List comprehension быстрее в {((end1 - start1) / (end2 - start2)):.2f} раз\")\n",
    "\n",
    "\n",
    "measure_performance()"
   ]
  },
  {
   "cell_type": "markdown",
   "id": "38df61f8",
   "metadata": {},
   "source": [
    "В ячейках ноутбука можно делать бенчмарки при помощи магии `timeit`:"
   ]
  },
  {
   "cell_type": "code",
   "execution_count": null,
   "id": "98cf6eb5",
   "metadata": {},
   "outputs": [],
   "source": [
    "%%timeit\n",
    "\n",
    "result1 = []\n",
    "for i in range(1_000_000):\n",
    "    result1.append(i * 2)"
   ]
  },
  {
   "cell_type": "code",
   "execution_count": null,
   "id": "c07be8a2",
   "metadata": {},
   "outputs": [],
   "source": [
    "%%timeit\n",
    "\n",
    "[i * 2 for i in range(1_000_000)]"
   ]
  },
  {
   "cell_type": "markdown",
   "id": "045f1a24",
   "metadata": {},
   "source": [
    "Какая еще магия есть в тетрадках?"
   ]
  },
  {
   "cell_type": "markdown",
   "id": "895b3e0e",
   "metadata": {},
   "source": [
    "`%who` - список всех переменных в актуальном состоянии неймспеса."
   ]
  },
  {
   "cell_type": "code",
   "execution_count": null,
   "id": "5bee83ba",
   "metadata": {},
   "outputs": [],
   "source": [
    "%who"
   ]
  },
  {
   "cell_type": "markdown",
   "id": "6c78130b",
   "metadata": {},
   "source": [
    "`%whos` - список всех переменных с указанием типа в актуальном состоянии неймспеса."
   ]
  },
  {
   "cell_type": "code",
   "execution_count": null,
   "id": "a45c9b47",
   "metadata": {},
   "outputs": [],
   "source": [
    "%whos"
   ]
  },
  {
   "cell_type": "markdown",
   "id": "17f76ce5",
   "metadata": {},
   "source": [
    "`%pinfo` - получение подробной информации об объекте из неймспейса."
   ]
  },
  {
   "cell_type": "code",
   "execution_count": null,
   "id": "d5723dc4",
   "metadata": {},
   "outputs": [],
   "source": [
    "%pinfo timeit"
   ]
  }
 ],
 "metadata": {
  "kernelspec": {
   "display_name": ".venv",
   "language": "python",
   "name": "python3"
  },
  "language_info": {
   "codemirror_mode": {
    "name": "ipython",
    "version": 3
   },
   "file_extension": ".py",
   "mimetype": "text/x-python",
   "name": "python",
   "nbconvert_exporter": "python",
   "pygments_lexer": "ipython3",
   "version": "3.13.3"
  }
 },
 "nbformat": 4,
 "nbformat_minor": 5
}
